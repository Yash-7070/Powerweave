{
 "cells": [
  {
   "cell_type": "code",
   "execution_count": 7,
   "id": "eb540303-12e2-4b2b-9ddb-e9972f46d030",
   "metadata": {},
   "outputs": [
    {
     "name": "stdout",
     "output_type": "stream",
     "text": [
      "{\n",
      "  \"order_id\": \"PO-2024-1247\",\n",
      "  \"client_name\": \"TechCorp Solutions\",\n",
      "  \"order_date\": \"2024-03-15\",\n",
      "  \"delivery_date\": \"2024-03-22\",\n",
      "  \"items\": [\n",
      "    {\n",
      "      \"product_code\": \"TC-001\",\n",
      "      \"description\": \"Widget Pro\",\n",
      "      \"quantity\": 50,\n",
      "      \"unit_price\": 25.0,\n",
      "      \"total_price\": 1250.0\n",
      "    },\n",
      "    {\n",
      "      \"product_code\": \"TC-002\",\n",
      "      \"description\": \"Gadget Max\",\n",
      "      \"quantity\": 25,\n",
      "      \"unit_price\": 45.0,\n",
      "      \"total_price\": 1125.0\n",
      "    }\n",
      "  ],\n",
      "  \"order_total\": 2375.0,\n",
      "  \"currency\": \"USD\",\n",
      "  \"special_instructions\": \"Rush delivery required\",\n",
      "  \"confidence_score\": 0.95\n",
      "}\n"
     ]
    }
   ],
   "source": [
    "import pandas as pd, json\n",
    "\n",
    "# Read Excel order info\n",
    "df = pd.read_excel(\"C:/Users/yashs/Downloads/Powerweave/order.xlsx\", sheet_name=\"Order_Info\")\n",
    "\n",
    "# Build JSON object\n",
    "order_json = {\n",
    "    \"order_id\": df[\"Order#\"][0],\n",
    "    \"client_name\": df[\"Client_Name\"][0],\n",
    "    \"order_date\": df[\"Order_Created\"][0],\n",
    "    \"delivery_date\": df[\"Needed_By\"][0],\n",
    "    \"items\": [\n",
    "        {\"product_code\": \"TC-001\", \"description\": \"Widget Pro\", \"quantity\": 50, \"unit_price\": 25.0, \"total_price\": 1250.0},\n",
    "        {\"product_code\": \"TC-002\", \"description\": \"Gadget Max\", \"quantity\": 25, \"unit_price\": 45.0, \"total_price\": 1125.0}\n",
    "    ],\n",
    "    \"order_total\": 2375.0,\n",
    "    \"currency\": \"USD\",\n",
    "    \"special_instructions\": \"Rush delivery required\",\n",
    "    \"confidence_score\": 0.95\n",
    "}\n",
    "\n",
    "print(json.dumps(order_json, indent=2))\n"
   ]
  },
  {
   "cell_type": "code",
   "execution_count": null,
   "id": "c6c4e638-f83d-4051-b83d-a291669d9421",
   "metadata": {},
   "outputs": [],
   "source": []
  }
 ],
 "metadata": {
  "kernelspec": {
   "display_name": "Python 3 (ipykernel)",
   "language": "python",
   "name": "python3"
  },
  "language_info": {
   "codemirror_mode": {
    "name": "ipython",
    "version": 3
   },
   "file_extension": ".py",
   "mimetype": "text/x-python",
   "name": "python",
   "nbconvert_exporter": "python",
   "pygments_lexer": "ipython3",
   "version": "3.13.5"
  }
 },
 "nbformat": 4,
 "nbformat_minor": 5
}
